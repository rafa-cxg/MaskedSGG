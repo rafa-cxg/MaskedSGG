{
 "cells": [
  {
   "cell_type": "code",
   "execution_count": 49,
   "metadata": {},
   "outputs": [],
   "source": [
    "import os\n",
    "import json\n",
    "\n",
    "import pandas as pd\n",
    "from tqdm import tqdm\n",
    "from lavis.common.utils import get_abs_path, get_cache_path"
   ]
  },
  {
   "cell_type": "code",
   "execution_count": 50,
   "metadata": {},
   "outputs": [],
   "source": [
    "cc3m = pd.read_csv(\"downloaded_cc3m_report.tsv.gz\", compression=\"gzip\", sep=\"\\t\", names=[\"caption\", \"path\", \"dataset\", \"mimetype\", \"size\", \"status\", \"url\"])"
   ]
  },
  {
   "cell_type": "code",
   "execution_count": 51,
   "metadata": {},
   "outputs": [
    {
     "data": {
      "text/plain": "caption     functions of government : 1 . form a more perf...\npath        /home/rafa/LAVIS-main/lavis/../cache/conceptua...\ndataset                                                  cc3m\nmimetype                                           image/jpeg\nsize                                                  31561.0\nstatus                                                    200\nurl         http://images.slideplayer.com/2/765769/slides/...\nName: 15, dtype: object"
     },
     "execution_count": 51,
     "metadata": {},
     "output_type": "execute_result"
    }
   ],
   "source": [
    "cc3m.iloc[15]"
   ]
  },
  {
   "cell_type": "code",
   "execution_count": 52,
   "metadata": {},
   "outputs": [
    {
     "data": {
      "text/plain": "3318333"
     },
     "execution_count": 52,
     "metadata": {},
     "output_type": "execute_result"
    }
   ],
   "source": [
    "len(cc3m)"
   ]
  },
  {
   "cell_type": "code",
   "execution_count": 61,
   "metadata": {},
   "outputs": [
    {
     "name": "stderr",
     "output_type": "stream",
     "text": [
      "100%|██████████| 2033390/2033390 [01:45<00:00, 19363.59it/s]"
     ]
    },
    {
     "name": "stdout",
     "output_type": "stream",
     "text": [
      "Found 1746981 valid records\n"
     ]
    },
    {
     "name": "stderr",
     "output_type": "stream",
     "text": [
      "\n"
     ]
    }
   ],
   "source": [
    "cnt = 0\n",
    "\n",
    "valid_records = []\n",
    "\n",
    "for i, path in tqdm(enumerate(cc3m.path.unique()), total=len(cc3m.path.unique())):\n",
    "    path = str(path)\n",
    "    if os.path.exists(path):\n",
    "        record = cc3m.iloc[i]\n",
    "        valid_records.append({\"image\": record[\"path\"], \"caption\": record[\"caption\"]})\n",
    "\n",
    "        cnt += 1\n",
    "\n",
    "    else:\n",
    "        if '/home/rafa/LAVIS-main/lavis/datasets/download_scripts/DownloadConceptualCaptions/cache/conceptual_caption/images' in path:\n",
    "            # print(\" {} \".format(path))\n",
    "            path=os.path.join('/home/rafa/LAVIS-main/lavis/../cache/conceptual_caption/images/',path.lstrip('/home/rafa/LAVIS-main/lavis/datasets/download_scripts/DownloadConceptualCaptions/cache/conceptual_caption/images'))\n",
    "            # print(\"fuck {} \".format(path))\n",
    "            if os.path.exists(path):\n",
    "                record = cc3m.iloc[i]\n",
    "                valid_records.append({\"image\": path, \"caption\": record[\"caption\"]})\n",
    "                cnt += 1\n",
    "                print(\"fuck {} \".format(path))\n",
    "\n",
    "\n",
    "print(\"Found {} valid records\".format(cnt))"
   ]
  },
  {
   "cell_type": "code",
   "execution_count": 62,
   "metadata": {},
   "outputs": [
    {
     "data": {
      "text/plain": "1746981"
     },
     "execution_count": 62,
     "metadata": {},
     "output_type": "execute_result"
    }
   ],
   "source": [
    "len(valid_records)"
   ]
  },
  {
   "cell_type": "code",
   "execution_count": 63,
   "metadata": {},
   "outputs": [
    {
     "data": {
      "text/plain": "{'image': '/home/rafa/LAVIS-main/lavis/../cache/conceptual_caption/images/2_2859920462.jpg',\n 'caption': 'young confused girl standing in front of a wardrobe'}"
     },
     "execution_count": 63,
     "metadata": {},
     "output_type": "execute_result"
    }
   ],
   "source": [
    "valid_records[1]"
   ]
  },
  {
   "cell_type": "code",
   "execution_count": 64,
   "metadata": {},
   "outputs": [],
   "source": [
    "from omegaconf import OmegaConf\n",
    "\n",
    "\n",
    "config_path = get_abs_path(\"configs/datasets/conceptual_caption/defaults_3m.yaml\")\n",
    "\n",
    "ann_path = OmegaConf.load(\n",
    "    config_path\n",
    ").datasets.conceptual_caption_3m.build_info.annotations.train.storage[0]\n",
    "\n",
    "ann_path = get_cache_path(ann_path)\n",
    "\n",
    "if os.path.exists(ann_path):\n",
    "    # abort\n",
    "    print(\"{} already exists\".format(ann_path))\n",
    "else:\n",
    "    # Save the valid records to a json file\n",
    "    with open(ann_path, \"w\") as f:\n",
    "        f.write(json.dumps(valid_records))"
   ]
  }
 ],
 "metadata": {
  "kernelspec": {
   "display_name": "Python 3.8.10 ('base')",
   "language": "python",
   "name": "python3"
  },
  "language_info": {
   "codemirror_mode": {
    "name": "ipython",
    "version": 3
   },
   "file_extension": ".py",
   "mimetype": "text/x-python",
   "name": "python",
   "nbconvert_exporter": "python",
   "pygments_lexer": "ipython3",
   "version": "3.8.10"
  },
  "orig_nbformat": 4,
  "vscode": {
   "interpreter": {
    "hash": "d4d1e4263499bec80672ea0156c357c1ee493ec2b1c70f0acce89fc37c4a6abe"
   }
  }
 },
 "nbformat": 4,
 "nbformat_minor": 2
}